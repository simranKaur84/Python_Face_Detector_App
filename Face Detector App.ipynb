{
 "cells": [
  {
   "cell_type": "markdown",
   "metadata": {},
   "source": [
    "##  Step-1 : Get Crap-Load of faces\n",
    "\n",
    "## Step-2 : Make all the faces Black and White. We will use opencv(Open Source Computer Vision) to achieve this. \n",
    "\n",
    "## Step-3 : Train the algorithm to detect the faces "
   ]
  },
  {
   "cell_type": "code",
   "execution_count": 9,
   "metadata": {},
   "outputs": [
    {
     "name": "stdout",
     "output_type": "stream",
     "text": [
      "[[218 161 452 452]]\n"
     ]
    },
    {
     "data": {
      "text/plain": [
       "-1"
      ]
     },
     "execution_count": 9,
     "metadata": {},
     "output_type": "execute_result"
    }
   ],
   "source": [
    "import cv2\n",
    "\n",
    "# we will use the open source computer vision to detect the faces\n",
    "\n",
    "trained_face_data = cv2.CascadeClassifier('haarcascade_frontalface_default.xml')\n",
    "\n",
    "image_to_be_detected = cv2.imread('robert_img.jpg')\n",
    "\n",
    "# we must convert the image to grayscale\n",
    "grayscaled_img = cv2.cvtColor(image_to_be_detected, cv2.COLOR_BGR2GRAY)\n",
    "\n",
    "# Detect faces and detectMultiScale() returns the coordinates of the rectangle after the object is detected\n",
    "face_coordinates = trained_face_data.detectMultiScale(grayscaled_img)\n",
    "\n",
    "print(face_coordinates)\n",
    "\n",
    "# Draw rectangle around faces\n",
    "for (x, y, w, h) in face_coordinates :\n",
    "    cv2.rectangle(grayscaled_img, (x,y), (x+w, y+h), (0, 255, 0), 2)\n",
    "    \n",
    "cv2.imshow('Robert Image', grayscaled_img)\n",
    "# the waitKey() method is used to wait for the image to be displayed until some key is pressed\n",
    "cv2.waitKey()"
   ]
  }
 ],
 "metadata": {
  "kernelspec": {
   "display_name": "Python 3",
   "language": "python",
   "name": "python3"
  },
  "language_info": {
   "codemirror_mode": {
    "name": "ipython",
    "version": 3
   },
   "file_extension": ".py",
   "mimetype": "text/x-python",
   "name": "python",
   "nbconvert_exporter": "python",
   "pygments_lexer": "ipython3",
   "version": "3.8.5"
  }
 },
 "nbformat": 4,
 "nbformat_minor": 4
}
